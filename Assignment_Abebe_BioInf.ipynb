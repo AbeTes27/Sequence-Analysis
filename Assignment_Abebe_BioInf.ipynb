{
 "cells": [
  {
   "cell_type": "markdown",
   "id": "9ba9811a",
   "metadata": {},
   "source": [
    "### 1. Write a function that, given a sequence as an argument, allows to detect if there are repeated sub-sequences of size k (the second argument of the function). The result should be a dictionary where keys are sub-sequences and values are the number of times they occur (at least 2). Use the function in a program that reads the sequence and k and prints the result by decreasing frequency."
   ]
  },
  {
   "cell_type": "code",
   "execution_count": 1,
   "id": "93386959",
   "metadata": {},
   "outputs": [],
   "source": [
    "def find_repeated_subsequences(sequence, k):\n",
    "    \"\"\" this function detects if there are repeated subsequences of size k and returns a dictionary in a decreasing frequency.\"\"\"\n",
    "    \n",
    "    subseq_count = {}  # initialize a disctionary to keep track of subsequences and their counts   \n",
    "    \n",
    "    \n",
    "    for i in range(len(sequence) - k + 1):    # Generate all subsequences of length k\n",
    "        subseq = sequence[i:i + k]           # extract a subsequence of length k starting from index i\n",
    "        if subseq in subseq_count:           # check if the subsequence is already in the dictionary\n",
    "            subseq_count[subseq] += 1        # if yes increment its count by 1\n",
    "        else:\n",
    "            subseq_count[subseq]=1           # if not add it to the dictionary with a count of 1\n",
    "   \n",
    "\n",
    "    # create a new dictionary to keep only subsequences that appear at least twice\n",
    "    repeated_subseq = {subseq: count for subseq, count in subseq_count.items() if count > 1}  \n",
    "    \n",
    "    # sort the repeated subsequences by their count in descending order and convert back to a dictionary\n",
    "    sorted_repeated_subseq = dict(sorted(repeated_subseq.items(), key=lambda item: item[1], reverse=True)) \n",
    "    \n",
    "    return sorted_repeated_subseq             # return the sorted dictionary of repeated subsequences "
   ]
  },
  {
   "cell_type": "code",
   "execution_count": 2,
   "id": "efb4115a",
   "metadata": {},
   "outputs": [
    {
     "data": {
      "text/plain": [
       "{'GTA': 4, 'TCG': 3, 'CGT': 2, 'AGT': 2, 'ATG': 2, 'TGA': 2}"
      ]
     },
     "execution_count": 2,
     "metadata": {},
     "output_type": "execute_result"
    }
   ],
   "source": [
    "# test the code with the given DNA sequence\n",
    "find_repeated_subsequences('ATCGTCGTAGTACTGTTCGGTATGATGAGTA', 3)"
   ]
  },
  {
   "cell_type": "markdown",
   "id": "ff5b4248",
   "metadata": {},
   "source": [
    "### 2. Write a function that reads a file in the FASTA format and returns a list with all sequences."
   ]
  },
  {
   "cell_type": "code",
   "execution_count": 3,
   "id": "071f9d44",
   "metadata": {},
   "outputs": [],
   "source": [
    "def read_fasta(file_path):\n",
    "    \"\"\" this function reads a file in the FASTA format and returns a list with all sequences.\"\"\"\n",
    "    \n",
    "    sequences = []    # initialize an empty list to store sequences \n",
    "    with open('Assignmnet _Abebe_FASTA.txt', 'r') as file:    # open the file at the given path for reading\n",
    "        sequence = \"\"                     # initialize an empty string to build each sequence\n",
    "        for line in file:                 # iterate over each line in the file\n",
    "            line = line.strip()           # remove leading or trailing white space from the line\n",
    "            if line.startswith(\">\"):      # check if the line is a header (starts with '>')\n",
    "                if sequence:              # If there is a sequence collected, add it to the list\n",
    "                    sequences.append(sequence)\n",
    "                    sequence = \"\"\n",
    "            else:                         # if not a header add the line to the current sequence\n",
    "                sequence += line\n",
    "                \n",
    "        if sequence:  # Add the last collected sequence to the list\n",
    "            sequences.append(sequence)\n",
    "    return sequences                      # return the list of sequences"
   ]
  },
  {
   "cell_type": "code",
   "execution_count": 4,
   "id": "9dff3e11",
   "metadata": {},
   "outputs": [
    {
     "data": {
      "text/plain": [
       "['AGGAATCTATCAAACTTCTAACTTTAGAGTCCAACCAACAGAATCTATTGTTAGATTTCCTAATATTACAAACTTGTGCCCTTTTGGTGAAGTTTTTAACGCCACCAGATTTGCATCTGTTTATGCTTGGAACAGGAAGAGAATCAGCAACTGTGTTGCTGATTATTCTGTCCTATATAATTCCGCATCATTTTCCACTTTTAAGTGTTATGGAGTGTCTCCTACTAAATTAAATGATCTCTGCTTTACTAATGTCTATGCAGATTCATTTGTAATTAGAGGTGATGAAGTCAGACAAATCGCTCCAGGGCAAACTGGAAAGATTGCTGATTATAATTATAAATTACCAGATGATTTTACAGGCTGCGTTATAGCTTGGAATTCTAACAATCTTGATTCTAAGGTTGGTGGTAATTATAATTACCGGTATAGATTGTTTAGGAAGTCTAATCTCAAACCTTTTGAGAGAGATATTTCAACTGAAATCTATCAGGCCGGTAGCAAACCTTGTAATGGTGTTGAAGGTTTTAATTGTTACTTTCCTTTACAATCATATGGTTTCCAACCCACTAATGGTGTTGGTTACCAACCATACAGAGTAGTAGTACTTTCTTTTGAACTTCTACATGCACCAGCAACTGTTTGTGGACCTAAAAAGTCTACTAATTTGGTTAAAAACAAATGTGTCAATTTCAACTTCAATGGTTTAACAGGCACAGGTGTTCTTACTGAGTCTAACAAAAAGTTTCTGCCTTTCCAACAATTTGGCAGAGACATTGCTGACACTACTGAT',\n",
       " 'CCAATTTTATATCAACATTTATTTTGATTTTTTGGTCATCCTGAAGTTTATATTCTAATTTTACCAGGATTCGGTATAATTTCACATATTATTAGTCAAGAATCAGGAAAAAAGGAAACATTCGGATCATTAGGAATAATTTATGCTATGTTAGCTATTGGACTATTAGGATTTATTGTATGAGCCCATCATATATTTACAGTAGGAATAGATGTAGATACCCGAGCTTATTTTACATCAGCTACTATAATTATTGCTGTTCCAACTGGAATTAATATTTTTAGTTGATTAGCAACTCTTTATGGAACACAATTAAATTACTCCCCAGCAACTCTATGAGCCTTAGGATTTGTATTTTTATTTACAGTAGGAGGATTAACAGGAGTTGTTTTAGCTAACTCTTCTGTTGATATTATTCTTCATGACACTTACTACGTAGTTGCTCATTTCCATTATGTTTTATCAATAGGAGCAGTATTCGCTATTATAGCAGGATTCGTCCATTGATACCCTTTATTTACTGGATTGACTTTAAATGCAAAAATACTAAAAAGTCAATTTACTATTATATTTATCGGAGTAAATATTACATTTTTCCCCCAACACTTCTTAGGGTTAGCAGGTATACCCCGACGATATTCAGATTATCCAGATGCTTATACAACTTGAAATGTAATTTCTACTATTGGATCAACAATTTCATTGGAG',\n",
       " 'TTGACCGATGACCCCGGTTCAGGCTTCACCACAGTGTGGAACGCGGTCGTCTCCGAACTTAACGGCGACCCTAAGGTTGACGACGGACCCAGCAGTGATGCTAATCTCAGCGCTCCGCTGACCCCTCAGCAAAGGGCTTGGCTCAATCTCGTCCAGCCATTGACCATCGTCGAGGGGTTTGCTCTGTTATCCGTGCCGAGCAGCTTTGTCCAAAACGAAATCGAGCGCCATCTGCGGGCCCCGATTACCGACGCTCTCAGCCGCCGACTCGGACATCAGATCCAACTCGGGGTCCGCATCGCTCCGCCGGCGACCGACGAAGCCGACGACACTACCGTGCCGCCTTCCGAAAATCCTGCTACCACATCGCCAGACACCACAACCGACAACGACGAGATTGATGACAGCGCTGCGGCACGGGGCGATAACCAGCACAGTTGGCCAAGTTACTTCACCGAGCGCCCGCACAATACCGATTCCGCTACCGCTGGCGTAACCAGCCTTAACCGTCGCTACACCTTTGATACGTTCGTTATCGGCGCCTCCAACCGGTTCGCGCACGCCGCCGCCTTGGCGATCGCAGAAGCACCCGCCCGCGCTTACAACCCCCTGTTCATCTGGGGCGAGTCCGGTCTCGGCAAGACACACCTGCTACACGCGGCAGGCAACTATGCCCAACGGTTGTTCCCGGGAATGCGGG',\n",
       " 'MALWMRLLPLLALLALWGPDPAAAFVNQHLCGSHLVEALYLVCGERGFFYTPKTRREAEDLQVGQVELGGGPGAGSLQPLALEGSLQKRGIVEQCCTSICSLYQLENYCNELHCDKLHVDPENFRLLG',\n",
       " 'MVHLTPEEKSAVTALWGKVNVDEVGGEALGRLLVVYPWTQRFFESFGDLSTPDAVMGNPKVKAHGKKVLGAFSDGLAHLDNLKGTFATLSELHCDKLHVDPENFRLLGNVLVCVLAHHFGKEFTPPVQAAYQKVVAGVANALAHKYH']"
      ]
     },
     "execution_count": 4,
     "metadata": {},
     "output_type": "execute_result"
    }
   ],
   "source": [
    "# test the function with a file that conatilns 3 nucleotide and 2 amino acid sequences in a FASTA format. \n",
    "read_fasta('Assignmnet _Abebe_FASTA.txt')"
   ]
  },
  {
   "cell_type": "markdown",
   "id": "da6281e5",
   "metadata": {},
   "source": [
    "### 3. In many proteins present in the membrane, there is a conserved motif that allows them to be identified in the transport process of these protein by the endosomes to be degraded in the lysosomes. This motif occurs in the last 10 positions of the protein, being characterized by the aminoacid tyrosine (Y), followed by any two aminoacids and terminating in a hydrophobic aminoacid of the following set – phenylalanine (F), tyrosine (Y) or threonine (T).\n",
    "#### a. Write a function that, given a protein (sequence of aminoacids), returns an integer value indicating the position where the motif occurs in the sequence or 1 if it does not occur. "
   ]
  },
  {
   "cell_type": "code",
   "execution_count": 5,
   "id": "3343d171",
   "metadata": {},
   "outputs": [],
   "source": [
    "def find_motif(protein_sequence):          \n",
    "    \"\"\" this function checks for the presence of the specific motif in the last ten position of the given protein sequence.\n",
    "        returns the position of the motif if found other wise return -1. \"\"\"\n",
    "    \n",
    "    motif_length = 4  # define the length of the motif \n",
    "    if len (protein_sequence) < motif_length:    # if the sequence is shorter than the motif, return -1\n",
    "        return 1\n",
    "    # define the motif tattern: YXX[FYT], XX referes to any two aminoacids\n",
    "        \n",
    "    # Check the last 10 positions for the motif\n",
    "    # iterate over the last ten positions\n",
    "    for i in range (max(0, len(protein_sequence) - 10), len(protein_sequence) - motif_length + 1): \n",
    "        if protein_sequence [i] == 'Y' and \\\n",
    "            protein_sequence [i+3] in {'F', 'Y', 'T'}:   # check if the motif pattern matches \n",
    "            return i                                     # return the starting position of the motif\n",
    "    return 1  # Return 1 if the motif does not occur    "
   ]
  },
  {
   "cell_type": "code",
   "execution_count": 6,
   "id": "52c58965",
   "metadata": {},
   "outputs": [
    {
     "data": {
      "text/plain": [
       "23"
      ]
     },
     "execution_count": 6,
     "metadata": {},
     "output_type": "execute_result"
    }
   ],
   "source": [
    "# test the code with a protein sequence that does contain a motif in the last ten positions of the sequence\n",
    "find_motif('MRPSGASRAKAWVTRLYYREAKTYNAYWVQD')"
   ]
  },
  {
   "cell_type": "code",
   "execution_count": 7,
   "id": "1f91f3ec",
   "metadata": {},
   "outputs": [
    {
     "data": {
      "text/plain": [
       "1"
      ]
     },
     "execution_count": 7,
     "metadata": {},
     "output_type": "execute_result"
    }
   ],
   "source": [
    "# test the code with a protein sequence that contain a motif but not in the last ten positions of the sequence\n",
    "find_motif('MDYAGFKKIPVLLVGAAGILAVLLPCLLLVTVLNGFAEKNPGLYFKLSL')"
   ]
  },
  {
   "cell_type": "code",
   "execution_count": 8,
   "id": "7a1eb33f",
   "metadata": {},
   "outputs": [
    {
     "data": {
      "text/plain": [
       "1"
      ]
     },
     "execution_count": 8,
     "metadata": {},
     "output_type": "execute_result"
    }
   ],
   "source": [
    "# test the code with a protein sequence that does not contain a motif at all\n",
    "find_motif('MRPSGTAGAALLALLAALCPASRAKAWVTRLRIVVQGRKQCVSA')"
   ]
  },
  {
   "cell_type": "code",
   "execution_count": 9,
   "id": "a3ed815a",
   "metadata": {},
   "outputs": [
    {
     "data": {
      "text/plain": [
       "1"
      ]
     },
     "execution_count": 9,
     "metadata": {},
     "output_type": "execute_result"
    }
   ],
   "source": [
    "# test the code with a protein sequence that is shorter than the motif\n",
    "find_motif('YFK')"
   ]
  },
  {
   "cell_type": "code",
   "execution_count": 10,
   "id": "e16d7480",
   "metadata": {},
   "outputs": [
    {
     "data": {
      "text/plain": [
       "0"
      ]
     },
     "execution_count": 10,
     "metadata": {},
     "output_type": "execute_result"
    }
   ],
   "source": [
    "# test the code with a protein sequence that have the motif and is equal length with the motif\n",
    "find_motif('YGAF')"
   ]
  },
  {
   "cell_type": "code",
   "execution_count": 11,
   "id": "17a62427",
   "metadata": {},
   "outputs": [
    {
     "data": {
      "text/plain": [
       "1"
      ]
     },
     "execution_count": 11,
     "metadata": {},
     "output_type": "execute_result"
    }
   ],
   "source": [
    "# test the code with a protein sequence that have equal length with the motif\n",
    "find_motif('YGAM')"
   ]
  },
  {
   "cell_type": "markdown",
   "id": "ed8f27d2",
   "metadata": {},
   "source": [
    "#### b. Write a function that, given a list of protein sequences, returns a list of tuples, containing the sequences that contain the previous motif (in the first position of the tuple), and the position where it occurs (in the second position). Use the previous function."
   ]
  },
  {
   "cell_type": "code",
   "execution_count": 12,
   "id": "d5fa01d2",
   "metadata": {},
   "outputs": [],
   "source": [
    "def find_motif_in_list(protein_list):\n",
    "    \"\"\" This function checks each protein sequence in the given list for the motif. Returns a list of tuples with the \n",
    "        sequence and the position of the motif if found.\"\"\"\n",
    "    \n",
    "    result = []  # Initialize an empty list to store results\n",
    "    \n",
    "    for protein_sequence in protein_list:  # Iterate over each protein sequence in the list\n",
    "        position = find_motif(protein_sequence)  # Check for the motif in the sequence\n",
    "        if position != 1:  # If the motif is found add the sequence and the position to the result list\n",
    "            result.append((protein_sequence, position))  \n",
    "    return result  # Return the list of results "
   ]
  },
  {
   "cell_type": "code",
   "execution_count": 13,
   "id": "77a33f86",
   "metadata": {},
   "outputs": [
    {
     "data": {
      "text/plain": [
       "[('MKQYHLTDF', 3), ('GYPYHLTTY', 3), ('AFYHLYTAYF', 2)]"
      ]
     },
     "execution_count": 13,
     "metadata": {},
     "output_type": "execute_result"
    }
   ],
   "source": [
    "# test the code with the given protein sequence with and with out the given motif.\n",
    "protein_list = [\"MKQYHLTDF\",\"MDFTRKLVY\",\"GYPYHLTTY\",\"YYYPYTFFF\",\"AFYHLYTAYF\",\"MKQDHYLDMT\"]\n",
    "find_motif_in_list(protein_list)"
   ]
  }
 ],
 "metadata": {
  "kernelspec": {
   "display_name": "Python 3 (ipykernel)",
   "language": "python",
   "name": "python3"
  },
  "language_info": {
   "codemirror_mode": {
    "name": "ipython",
    "version": 3
   },
   "file_extension": ".py",
   "mimetype": "text/x-python",
   "name": "python",
   "nbconvert_exporter": "python",
   "pygments_lexer": "ipython3",
   "version": "3.9.13"
  }
 },
 "nbformat": 4,
 "nbformat_minor": 5
}
